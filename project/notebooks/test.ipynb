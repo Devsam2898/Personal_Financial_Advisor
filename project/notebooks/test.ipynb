{
 "cells": [
  {
   "cell_type": "code",
   "execution_count": 4,
   "id": "c20da7c6",
   "metadata": {},
   "outputs": [
    {
     "name": "stdout",
     "output_type": "stream",
     "text": [
      "Requirement already satisfied: requests in c:\\users\\devavrat.samak\\appdata\\local\\programs\\python\\python312\\lib\\site-packages (2.32.3)\n",
      "Collecting pandas\n",
      "  Downloading pandas-2.2.3-cp312-cp312-win_amd64.whl.metadata (19 kB)\n",
      "Requirement already satisfied: charset-normalizer<4,>=2 in c:\\users\\devavrat.samak\\appdata\\local\\programs\\python\\python312\\lib\\site-packages (from requests) (3.4.2)\n",
      "Requirement already satisfied: idna<4,>=2.5 in c:\\users\\devavrat.samak\\appdata\\local\\programs\\python\\python312\\lib\\site-packages (from requests) (3.10)\n",
      "Requirement already satisfied: urllib3<3,>=1.21.1 in c:\\users\\devavrat.samak\\appdata\\local\\programs\\python\\python312\\lib\\site-packages (from requests) (2.4.0)\n",
      "Requirement already satisfied: certifi>=2017.4.17 in c:\\users\\devavrat.samak\\appdata\\local\\programs\\python\\python312\\lib\\site-packages (from requests) (2025.4.26)\n",
      "Requirement already satisfied: numpy>=1.26.0 in c:\\users\\devavrat.samak\\appdata\\local\\programs\\python\\python312\\lib\\site-packages (from pandas) (2.2.5)\n",
      "Requirement already satisfied: python-dateutil>=2.8.2 in c:\\users\\devavrat.samak\\appdata\\roaming\\python\\python312\\site-packages (from pandas) (2.9.0.post0)\n",
      "Collecting pytz>=2020.1 (from pandas)\n",
      "  Downloading pytz-2025.2-py2.py3-none-any.whl.metadata (22 kB)\n",
      "Collecting tzdata>=2022.7 (from pandas)\n",
      "  Downloading tzdata-2025.2-py2.py3-none-any.whl.metadata (1.4 kB)\n",
      "Requirement already satisfied: six>=1.5 in c:\\users\\devavrat.samak\\appdata\\roaming\\python\\python312\\site-packages (from python-dateutil>=2.8.2->pandas) (1.17.0)\n",
      "Downloading pandas-2.2.3-cp312-cp312-win_amd64.whl (11.5 MB)\n",
      "   ---------------------------------------- 0.0/11.5 MB ? eta -:--:--\n",
      "   --- ------------------------------------ 1.0/11.5 MB 16.7 MB/s eta 0:00:01\n",
      "   ------- -------------------------------- 2.1/11.5 MB 6.5 MB/s eta 0:00:02\n",
      "   ---------------- ----------------------- 4.7/11.5 MB 8.6 MB/s eta 0:00:01\n",
      "   ----------------------------- ---------- 8.4/11.5 MB 11.3 MB/s eta 0:00:01\n",
      "   ---------------------------------------  11.3/11.5 MB 12.6 MB/s eta 0:00:01\n",
      "   ---------------------------------------- 11.5/11.5 MB 11.8 MB/s eta 0:00:00\n",
      "Downloading pytz-2025.2-py2.py3-none-any.whl (509 kB)\n",
      "Downloading tzdata-2025.2-py2.py3-none-any.whl (347 kB)\n",
      "Installing collected packages: pytz, tzdata, pandas\n",
      "Successfully installed pandas-2.2.3 pytz-2025.2 tzdata-2025.2\n"
     ]
    },
    {
     "name": "stderr",
     "output_type": "stream",
     "text": [
      "\n",
      "[notice] A new release of pip is available: 25.0.1 -> 25.1.1\n",
      "[notice] To update, run: python.exe -m pip install --upgrade pip\n"
     ]
    }
   ],
   "source": [
    "!pip install requests pandas "
   ]
  },
  {
   "cell_type": "code",
   "execution_count": 5,
   "id": "3b32d1ac",
   "metadata": {},
   "outputs": [],
   "source": [
    "import requests\n",
    "import pandas as pd\n",
    "from io import StringIO\n",
    "\n",
    "def get_oecd_indicator(country_code, indicator_code):\n",
    "    if indicator_code == \"inflation\":\n",
    "        indicator = \"CP\"\n",
    "        url = f\"https://sdmx.oecd.org/public/rest/data/OECD.SDD.STES,DSD_STES@DF_STES/.{country_code}.{indicator}.TOT.IDX2015.M?startPeriod=2024-01&dimensionAtObservation=AllDimensions&format=csvfilewithlabels\"\n",
    "    elif indicator_code == \"interest\":\n",
    "        indicator = \"IR3TIB01.STM\"\n",
    "        url = f\"https://sdmx.oecd.org/public/rest/data/OECD.SDD.STES,DSD_STES@DF_STES/.{country_code}.{indicator}?startPeriod=2024-01&dimensionAtObservation=AllDimensions&format=csvfilewithlabels\"\n",
    "    else:\n",
    "        return None\n",
    "\n",
    "    response = requests.get(url)\n",
    "    if response.status_code == 200:\n",
    "        df = pd.read_csv(StringIO(response.text))\n",
    "        if not df.empty:\n",
    "            print(\"Preview of fetched data:\")\n",
    "            display(df.tail())  # Show the last few rows\n",
    "            return float(df.iloc[-1]['Value'])\n",
    "        else:\n",
    "            print(\"No data found in response.\")\n",
    "    else:\n",
    "        print(f\"Request failed with status code {response.status_code}\")\n",
    "    return None\n",
    "\n",
    "def get_inflation_rate(country=\"USA\"):\n",
    "    value = get_oecd_indicator(country, \"inflation\")\n",
    "    return {\"inflation_rate\": value}\n",
    "\n",
    "def get_interest_rate(country=\"USA\"):\n",
    "    value = get_oecd_indicator(country, \"interest\")\n",
    "    return {\"interest_rate\": value}\n"
   ]
  },
  {
   "cell_type": "code",
   "execution_count": 6,
   "id": "89bbddc6",
   "metadata": {},
   "outputs": [
    {
     "name": "stdout",
     "output_type": "stream",
     "text": [
      "Request failed with status code 404\n"
     ]
    },
    {
     "data": {
      "text/plain": [
       "{'inflation_rate': None}"
      ]
     },
     "execution_count": 6,
     "metadata": {},
     "output_type": "execute_result"
    }
   ],
   "source": [
    "# Test for USA Inflation\n",
    "get_inflation_rate(\"USA\")"
   ]
  },
  {
   "cell_type": "code",
   "execution_count": 7,
   "id": "60be26c4",
   "metadata": {},
   "outputs": [
    {
     "name": "stdout",
     "output_type": "stream",
     "text": [
      "Request failed with status code 404\n"
     ]
    },
    {
     "data": {
      "text/plain": [
       "{'interest_rate': None}"
      ]
     },
     "execution_count": 7,
     "metadata": {},
     "output_type": "execute_result"
    }
   ],
   "source": [
    "# Test for Germany Interest Rate\n",
    "get_interest_rate(\"DEU\")"
   ]
  },
  {
   "cell_type": "code",
   "execution_count": 8,
   "id": "d7f600ad",
   "metadata": {},
   "outputs": [
    {
     "name": "stdout",
     "output_type": "stream",
     "text": [
      "Error: 404\n"
     ]
    }
   ],
   "source": [
    "import requests\n",
    "import pandas as pd\n",
    "from io import StringIO\n",
    "\n",
    "def get_cpi_oecd(country=\"USA\"):\n",
    "    url = \"https://stats.oecd.org/SDMX-JSON/data/MEI_CPI/USA.CPALTT01.ST.Q/all?startTime=2023-01\"\n",
    "    response = requests.get(url)\n",
    "    \n",
    "    if response.status_code == 200:\n",
    "        data = response.json()\n",
    "        series = data['dataSets'][0]['series']\n",
    "        obs = list(series.values())[0]['observations']\n",
    "        latest_key = sorted(obs.keys())[-1]\n",
    "        latest_value = obs[latest_key][0]\n",
    "        return {\"cpi_latest\": latest_value}\n",
    "    else:\n",
    "        print(f\"Error: {response.status_code}\")\n",
    "        return None\n",
    "\n",
    "# Try it:\n",
    "get_cpi_oecd()\n"
   ]
  },
  {
   "cell_type": "code",
   "execution_count": 9,
   "id": "cab4c752",
   "metadata": {},
   "outputs": [
    {
     "name": "stdout",
     "output_type": "stream",
     "text": [
      "Error fetching data: 404\n",
      "None\n"
     ]
    }
   ],
   "source": [
    "import requests\n",
    "import pandas as pd\n",
    "from io import StringIO\n",
    "\n",
    "def get_cpi_oecd_csv(country_code=\"USA\"):\n",
    "    \"\"\"\n",
    "    Fetch latest Consumer Price Index (CPI) for the given country using OECD CSV API.\n",
    "    \"\"\"\n",
    "    url = (\n",
    "        f\"https://stats.oecd.org/sdmx-json/data/MEI_CPI/{country_code}.CPALTT01.IXOB.M/all?\"\n",
    "        \"startTime=2024-01&dimensionAtObservation=AllDimensions&contentType=csv\"\n",
    "    )\n",
    "    \n",
    "    response = requests.get(url)\n",
    "    \n",
    "    if response.status_code == 200:\n",
    "        df = pd.read_csv(StringIO(response.text))\n",
    "        df = df[df[\"TIME\"] == df[\"TIME\"].max()]\n",
    "        latest = df[\"Value\"].values[0]\n",
    "        return {\"cpi_latest\": latest}\n",
    "    else:\n",
    "        print(f\"Error fetching data: {response.status_code}\")\n",
    "        return None\n",
    "\n",
    "# Example usage\n",
    "print(get_cpi_oecd_csv(\"USA\"))\n"
   ]
  },
  {
   "cell_type": "code",
   "execution_count": 16,
   "id": "7ef4522c",
   "metadata": {},
   "outputs": [],
   "source": [
    "import os\n",
    "import requests\n",
    "\n",
    "# TEMPORARILY set the API key here for testing\n",
    "os.environ[\"FRED_API_KEY\"] = \"ed700d62fa43396afa35236a0dd62654\"\n",
    "\n",
    "FRED_API_KEY = os.getenv(\"FRED_API_KEY\")\n",
    "\n",
    "# Helper function\n",
    "def get_fred_series(series_id: str):\n",
    "    url = f\"https://api.stlouisfed.org/fred/series/observations\"\n",
    "    params = {\n",
    "        \"series_id\": series_id,\n",
    "        \"api_key\": FRED_API_KEY,\n",
    "        \"file_type\": \"json\",\n",
    "        \"observation_order\": \"desc\",  # Most recent first\n",
    "        \"limit\": 1\n",
    "    }\n",
    "\n",
    "    response = requests.get(url, params=params)\n",
    "    if response.status_code == 200:\n",
    "        data = response.json()\n",
    "        if data[\"observations\"]:\n",
    "            return float(data[\"observations\"][0][\"value\"])\n",
    "        else:\n",
    "            print(\"⚠️ No observations found.\")\n",
    "    else:\n",
    "        print(f\"❌ HTTP Error: {response.status_code}\")\n",
    "    return None\n",
    "\n",
    "# Individual economic indicators\n",
    "def get_inflation_rate(country=\"IND\"):\n",
    "    value = get_fred_series(\"CPIAUCSL\")\n",
    "    return {\"inflation_rate\": round(value, 2) if value else \"Unavailable\"}\n",
    "\n",
    "# def get_interest_rate(country=\"USA\"):\n",
    "#     value = get_fred_series(\"FEDFUNDS\")\n",
    "#     return {\"interest_rate\": round(value, 2) if value else \"Unavailable\"}\n",
    "\n",
    "# def get_unemployment_rate(country=\"USA\"):\n",
    "#     value = get_fred_series(\"UNRATE\")\n",
    "#     return {\"unemployment_rate\": round(value, 2) if value else \"Unavailable\"}\n"
   ]
  },
  {
   "cell_type": "code",
   "execution_count": 17,
   "id": "dd283112",
   "metadata": {},
   "outputs": [
    {
     "data": {
      "text/plain": [
       "{'inflation_rate': 21.48}"
      ]
     },
     "execution_count": 17,
     "metadata": {},
     "output_type": "execute_result"
    }
   ],
   "source": [
    "get_inflation_rate()\n",
    "# get_interest_rate()\n",
    "# get_unemployment_rate()\n"
   ]
  },
  {
   "cell_type": "code",
   "execution_count": 18,
   "id": "6e3a6040",
   "metadata": {},
   "outputs": [
    {
     "name": "stdout",
     "output_type": "stream",
     "text": [
      "{'inflation_rate': 4.95}\n"
     ]
    }
   ],
   "source": [
    "import requests\n",
    "\n",
    "def get_worldbank_inflation(country_code=\"IN\"):\n",
    "    url = f\"http://api.worldbank.org/v2/country/{country_code}/indicator/FP.CPI.TOTL.ZG?format=json&per_page=1\"\n",
    "    response = requests.get(url)\n",
    "    if response.status_code == 200:\n",
    "        data = response.json()\n",
    "        if len(data) == 2 and data[1]:\n",
    "            value = data[1][0][\"value\"]\n",
    "            return {\"inflation_rate\": round(value, 2) if value else \"Unavailable\"}\n",
    "    return {\"inflation_rate\": \"Unavailable\"}\n",
    "\n",
    "print(get_worldbank_inflation(\"IN\"))  # Output: {'inflation_rate': 5.1} or similar\n"
   ]
  },
  {
   "cell_type": "code",
   "execution_count": 19,
   "id": "97f0b420",
   "metadata": {},
   "outputs": [
    {
     "name": "stdout",
     "output_type": "stream",
     "text": [
      "{'interest_rate': 'Unavailable'}\n",
      "{'interest_rate': 'Unavailable'}\n"
     ]
    }
   ],
   "source": [
    "import requests\n",
    "\n",
    "def get_interest_rate(country_code=\"IN\", indicator=\"FR.INR.RINR\"):\n",
    "    url = f\"http://api.worldbank.org/v2/country/{country_code}/indicator/{indicator}?format=json&per_page=1\"\n",
    "    response = requests.get(url)\n",
    "    if response.status_code == 200:\n",
    "        data = response.json()\n",
    "        if len(data) == 2 and data[1]:\n",
    "            value = data[1][0][\"value\"]\n",
    "            return {\"interest_rate\": round(value, 2) if value else \"Unavailable\"}\n",
    "    return {\"interest_rate\": \"Unavailable\"}\n",
    "\n",
    "# Real interest rate\n",
    "print(get_interest_rate(\"IN\", \"FR.INR.RINR\"))\n",
    "\n",
    "# Lending rate\n",
    "print(get_interest_rate(\"IN\", \"FR.INR.LEND\"))\n"
   ]
  },
  {
   "cell_type": "code",
   "execution_count": null,
   "id": "6598cf2b",
   "metadata": {},
   "outputs": [],
   "source": []
  }
 ],
 "metadata": {
  "kernelspec": {
   "display_name": "Python 3",
   "language": "python",
   "name": "python3"
  },
  "language_info": {
   "codemirror_mode": {
    "name": "ipython",
    "version": 3
   },
   "file_extension": ".py",
   "mimetype": "text/x-python",
   "name": "python",
   "nbconvert_exporter": "python",
   "pygments_lexer": "ipython3",
   "version": "3.12.10"
  }
 },
 "nbformat": 4,
 "nbformat_minor": 5
}
